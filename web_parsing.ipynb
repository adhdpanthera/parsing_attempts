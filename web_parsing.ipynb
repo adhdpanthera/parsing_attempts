{
  "cells": [
    {
      "cell_type": "markdown",
      "metadata": {
        "id": "C6CopWBb_mDn"
      },
      "source": [
        "# 1 Урок. Web Parsing статических страниц\n",
        "\n"
      ]
    },
    {
      "cell_type": "markdown",
      "metadata": {
        "id": "C8W8Fz73FKCX"
      },
      "source": [
        "Распарсим JSON"
      ]
    },
    {
      "cell_type": "code",
      "execution_count": 6,
      "metadata": {
        "id": "0tnxRA8i_lWA"
      },
      "outputs": [],
      "source": [
        "import json"
      ]
    },
    {
      "cell_type": "code",
      "execution_count": 2,
      "metadata": {
        "id": "Xoo8pXXU_kJH"
      },
      "outputs": [],
      "source": [
        "datafile=open('/content/webinars.json', 'rb')"
      ]
    },
    {
      "cell_type": "code",
      "execution_count": 3,
      "metadata": {
        "id": "I3Lo8gBjCuwa"
      },
      "outputs": [],
      "source": [
        "data=json.load(datafile) # Произошел парсинг - прочитали файл в формате json в переменную data"
      ]
    },
    {
      "cell_type": "code",
      "execution_count": 4,
      "metadata": {
        "colab": {
          "base_uri": "https://localhost:8080/"
        },
        "id": "wkdxM3njDiJQ",
        "outputId": "9c4dd574-520b-40ff-8924-8844d4fa1a14"
      },
      "outputs": [
        {
          "data": {
            "text/plain": [
              "[{'date': '2022-01-12 19:00',\n",
              "  'name': 'Введение в язык Java',\n",
              "  'speaker': 'Даниил Пилипенко',\n",
              "  'type': 'Программирование'},\n",
              " {'date': '2029-12-12 23:59',\n",
              "  'name': 'Парсинг Сайтов на Python',\n",
              "  'speaker': 'Мишаня',\n",
              "  'type': 'Программирование'},\n",
              " {'date': '2022-01-22 21:00',\n",
              "  'name': 'Таргетинг Рекламы',\n",
              "  'speaker': 'Влад Хаханов',\n",
              "  'type': 'Маркетинг'}]"
            ]
          },
          "execution_count": 4,
          "metadata": {},
          "output_type": "execute_result"
        }
      ],
      "source": [
        "data # это уже список объектов с полями"
      ]
    },
    {
      "cell_type": "code",
      "execution_count": 5,
      "metadata": {
        "colab": {
          "base_uri": "https://localhost:8080/"
        },
        "id": "T58fjRAPDnEN",
        "outputId": "41ca2e73-629a-4a8b-89cf-08456f380663"
      },
      "outputs": [
        {
          "data": {
            "text/plain": [
              "['Даниил Пилипенко', 'Мишаня', 'Влад Хаханов']"
            ]
          },
          "execution_count": 5,
          "metadata": {},
          "output_type": "execute_result"
        }
      ],
      "source": [
        "[webinar['speaker'] for webinar in data] # list comprehention - распарсили всех спикеров из файла"
      ]
    },
    {
      "cell_type": "markdown",
      "metadata": {
        "id": "7QFowQ1FFHJl"
      },
      "source": [
        "Распарсим HTML - получим список направлений"
      ]
    },
    {
      "cell_type": "code",
      "execution_count": 7,
      "metadata": {
        "id": "Dzdpp1IIE-Gw"
      },
      "outputs": [],
      "source": [
        "from bs4 import BeautifulSoup"
      ]
    },
    {
      "cell_type": "code",
      "execution_count": 7,
      "metadata": {
        "id": "z7P_8ukjJ2xY"
      },
      "outputs": [],
      "source": [
        "htmlfile=open('/content/skillbox.html','rb')"
      ]
    },
    {
      "cell_type": "code",
      "execution_count": 8,
      "metadata": {
        "id": "4TrTI2cEJ2tq"
      },
      "outputs": [],
      "source": [
        "code=htmlfile.read()"
      ]
    },
    {
      "cell_type": "code",
      "execution_count": 9,
      "metadata": {
        "colab": {
          "base_uri": "https://localhost:8080/"
        },
        "id": "3C9J5x3wJ2pC",
        "outputId": "591126b9-d66f-40d0-9343-dcad51584c67"
      },
      "outputs": [
        {
          "data": {
            "text/plain": [
              "b'<!doctype html>\\r\\n<html lang=\"ru\">\\r\\n<head>\\r\\n    <meta charset=\"utf-8\">\\r\\n    <title>Skillbox.ru</title>\\r\\n</head>\\r\\n<body>\\r\\n<h1>Skillbox \\xe2\\x80\\x94 \\xd1\\x8d\\xd1\\x82\\xd0\\xbe \\xd0\\xba\\xd1\\x80\\xd1\\x83\\xd1\\x82\\xd0\\xbe!</h1>\\r\\n\\r\\n\\r\\n<div>\\r\\n    <b>\\xd0\\x9d\\xd0\\xb0\\xd1\\x88\\xd0\\xb8 \\xd0\\xbd\\xd0\\xb0\\xd0\\xbf\\xd1\\x80\\xd0\\xb0\\xd0\\xb2\\xd0\\xbb\\xd0\\xb5\\xd0\\xbd\\xd0\\xb8\\xd1\\x8f:</b> <br/>\\r\\n    <ul>\\r\\n        <li>\\r\\n            <a href=\"https://skillbox.ru/code/\">\\xd0\\x9f\\xd1\\x80\\xd0\\xbe\\xd0\\xb3\\xd1\\x80\\xd0\\xb0\\xd0\\xbc\\xd0\\xbc\\xd0\\xb8\\xd1\\x80\\xd0\\xbe\\xd0\\xb2\\xd0\\xb0\\xd0\\xbd\\xd0\\xb8\\xd0\\xb5</a></li>\\r\\n        <li>\\r\\n            <a href=\"https://skillbox.ru/design/\">\\r\\n                \\xd0\\x94\\xd0\\xb8\\xd0\\xb7\\xd0\\xb0\\xd0\\xb9\\xd0\\xbd\\r\\n            </a></li>\\r\\n        <li>\\r\\n            <a href=\"https://skillbox.ru/marketing/\">\\r\\n                \\xd0\\x9c\\xd0\\xb0\\xd1\\x80\\xd0\\xba\\xd0\\xb5\\xd1\\x82\\xd0\\xb8\\xd0\\xbd\\xd0\\xb3\\r\\n            </a>\\r\\n        </li>\\r\\n        <li>\\r\\n            <a href=\"https://skillbox.ru/management/\">\\r\\n                \\xd0\\xa3\\xd0\\xbf\\xd1\\x80\\xd0\\xb0\\xd0\\xb2\\xd0\\xbb\\xd0\\xb5\\xd0\\xbd\\xd0\\xb8\\xd0\\xb5\\r\\n            </a></li>\\r\\n        <li>\\r\\n            <a href=\"https://skillbox.ru/games/\">\\r\\n                \\xd0\\x98\\xd0\\xb3\\xd1\\x80\\xd1\\x8b\\r\\n            </a>\\r\\n        </li>\\r\\n        <li>\\r\\n            <a href=\"https://skillbox.ru/multimedia/\">\\r\\n                \\xd0\\x9c\\xd1\\x83\\xd0\\xbb\\xd1\\x8c\\xd1\\x82\\xd0\\xb8\\xd0\\xbc\\xd0\\xb5\\xd0\\xb4\\xd0\\xb8\\xd0\\xb0\\r\\n            </a>\\r\\n        </li>\\r\\n        <li>\\r\\n            <a href=\"https://skillbox.ru/psychology/\">\\r\\n                \\xd0\\x9f\\xd1\\x81\\xd0\\xb8\\xd1\\x85\\xd0\\xbe\\xd0\\xbb\\xd0\\xbe\\xd0\\xb3\\xd0\\xb8\\xd1\\x8f\\r\\n            </a></li>\\r\\n        <li>\\r\\n            <a href=\"https://skillbox.ru/general-education/\">\\r\\n                \\xd0\\x9e\\xd0\\xb1\\xd1\\x89\\xd0\\xb5\\xd0\\xb5 \\xd0\\xbe\\xd0\\xb1\\xd1\\x80\\xd0\\xb0\\xd0\\xb7\\xd0\\xbe\\xd0\\xb2\\xd0\\xb0\\xd0\\xbd\\xd0\\xb8\\xd0\\xb5\\r\\n            </a>\\r\\n        </li>\\r\\n        <li>\\r\\n            <a href=\"https://skillbox.ru/engineering/\">\\r\\n                \\xd0\\x98\\xd0\\xbd\\xd0\\xb6\\xd0\\xb5\\xd0\\xbd\\xd0\\xb5\\xd1\\x80\\xd0\\xb8\\xd1\\x8f\\r\\n            </a>\\r\\n        </li>\\r\\n        <li>\\r\\n            <a href=\"https://skillbox.ru/english/\">\\r\\n                \\xd0\\x90\\xd0\\xbd\\xd0\\xb3\\xd0\\xbb\\xd0\\xb8\\xd0\\xb9\\xd1\\x81\\xd0\\xba\\xd0\\xb8\\xd0\\xb9 \\xd1\\x8f\\xd0\\xb7\\xd1\\x8b\\xd0\\xba\\r\\n            </a>\\r\\n        </li>\\r\\n        <li>\\r\\n            <a href=\"https://skillbox.ru/other/\">\\r\\n                \\xd0\\x94\\xd1\\x80\\xd1\\x83\\xd0\\xb3\\xd0\\xbe\\xd0\\xb5\\r\\n            </a>\\r\\n        </li>\\r\\n    </ul>\\r\\n</div>\\r\\n</body>\\r\\n</html>'"
            ]
          },
          "execution_count": 9,
          "metadata": {},
          "output_type": "execute_result"
        }
      ],
      "source": [
        "code"
      ]
    },
    {
      "cell_type": "code",
      "execution_count": 16,
      "metadata": {
        "id": "o8gCxpqFJ2lH"
      },
      "outputs": [],
      "source": [
        "soup=BeautifulSoup(code) # Это и есть парсинг, мы разобрали текст на html-элементы (теги)"
      ]
    },
    {
      "cell_type": "code",
      "execution_count": 18,
      "metadata": {
        "id": "bl1k5HVnK9gA"
      },
      "outputs": [],
      "source": [
        "links=soup.findAll('a') # Найти все элементы \"а\" - ссылки"
      ]
    },
    {
      "cell_type": "code",
      "execution_count": 19,
      "metadata": {
        "id": "I3euXibgNFZS"
      },
      "outputs": [],
      "source": [
        "links=links[:-1]"
      ]
    },
    {
      "cell_type": "code",
      "execution_count": 21,
      "metadata": {
        "colab": {
          "base_uri": "https://localhost:8080/"
        },
        "id": "c9XsRUGNK9aK",
        "outputId": "fd312a6d-f687-4415-a19d-cfcabeb89085"
      },
      "outputs": [
        {
          "data": {
            "text/plain": [
              "['Программирование',\n",
              " 'Дизайн',\n",
              " 'Маркетинг',\n",
              " 'Управление',\n",
              " 'Игры',\n",
              " 'Мультимедиа',\n",
              " 'Психология',\n",
              " 'Общее образование',\n",
              " 'Инженерия',\n",
              " 'Английский язык']"
            ]
          },
          "execution_count": 21,
          "metadata": {},
          "output_type": "execute_result"
        }
      ],
      "source": [
        "[link.string.strip() for link in links] # стрип говорит убрать все лишнее"
      ]
    },
    {
      "cell_type": "code",
      "execution_count": null,
      "metadata": {
        "id": "q_MdH3vUK9WU"
      },
      "outputs": [],
      "source": []
    },
    {
      "cell_type": "code",
      "execution_count": 1,
      "metadata": {
        "id": "ngEk2YoeK9Os"
      },
      "outputs": [],
      "source": [
        "import requests # Делать запросы к сайтам, бибилтека для работы с http протоколами"
      ]
    },
    {
      "cell_type": "code",
      "execution_count": 2,
      "metadata": {
        "id": "sXrtszNgK9SN"
      },
      "outputs": [],
      "source": [
        "url = 'https://live.skillbox.ru/'"
      ]
    },
    {
      "cell_type": "code",
      "execution_count": 3,
      "metadata": {
        "id": "iRy-ZyrNSbn3"
      },
      "outputs": [],
      "source": [
        "skillbox=requests.get(url) # отправили get запрос к страницу. Get - получить html код"
      ]
    },
    {
      "cell_type": "code",
      "execution_count": 4,
      "metadata": {
        "colab": {
          "base_uri": "https://localhost:8080/"
        },
        "id": "8UoKaZSITTVt",
        "outputId": "00d13bce-802d-4f69-fbeb-d133d2617c32"
      },
      "outputs": [
        {
          "name": "stdout",
          "output_type": "stream",
          "text": [
            "Code 200\n"
          ]
        }
      ],
      "source": [
        "print(f'Code {skillbox.status_code}') # Выводим код ответа"
      ]
    },
    {
      "cell_type": "code",
      "execution_count": 9,
      "metadata": {
        "id": "eNjGPgQpTi7G"
      },
      "outputs": [],
      "source": [
        "skillsoup=BeautifulSoup(skillbox.content, 'html.parser') # Поле контент содержит содержимое страницы"
      ]
    },
    {
      "cell_type": "markdown",
      "metadata": {
        "id": "dy5vsdWfU8kG"
      },
      "source": [
        "Если мы хотим что-то распарсить определенное, то нужно лезть в среду разработчика страницы и найти необходимую нам инфу. Далее смотрим, какой класс присваивается этому элементу, в котором находится нужная инфа. Часто смотреь именно на классы!"
      ]
    },
    {
      "cell_type": "code",
      "execution_count": 10,
      "metadata": {
        "id": "UHT3UCElT9hM"
      },
      "outputs": [],
      "source": [
        "webinars=skillsoup.findAll(class_='webinar-card__title')"
      ]
    },
    {
      "cell_type": "code",
      "execution_count": 11,
      "metadata": {
        "colab": {
          "base_uri": "https://localhost:8080/"
        },
        "id": "W6NH45yCT94W",
        "outputId": "50a4ee13-000c-48dc-e313-15fbb0b3dd56"
      },
      "outputs": [
        {
          "data": {
            "text/plain": [
              "['Web Scraping: парсим данные веб-сайтов с помощью Python',\n",
              " 'Знакомимся с маркетплейсами',\n",
              " 'Презентация Видеомастерской: итоги документального потока',\n",
              " 'Знакомимся с профессией декоратора и создаём мудборд',\n",
              " 'Как зайти и раскрутиться в Telegram и «ВКонтакте», чтобы обогнать конкурентов: подводим итоги',\n",
              " 'Продвижение за 0 рублей на актуальных площадках. Работа с Telegram',\n",
              " 'Как обогнать конкурентов «ВКонтакте»',\n",
              " 'Искусственный интеллект на Python: подводим итоги',\n",
              " 'Нарративный дизайн: подводим итоги',\n",
              " 'Изучаем основы бизнес-аналитики за 3 дня. Подводим итоги',\n",
              " 'Пробуем себя в ландшафтном дизайне',\n",
              " 'Конференция Skillbox Holding Limited',\n",
              " 'Инструменты нарративного дизайнера',\n",
              " 'Учим бота на Python понимать текст',\n",
              " 'Изучаем инструменты аналитика',\n",
              " 'Пробуем себя в дизайне интерьеров',\n",
              " 'Знакомимся с нарративным дизайном',\n",
              " 'Знакомимся с Python и архитектурой умного чат-бота',\n",
              " 'Знакомимся с профессией бизнес-аналитика',\n",
              " 'Презентация проектов по курсам: HR-менеджер, HR-аналитик и Менеджер по обучению и развитию персонала',\n",
              " 'Пробуем себя в декорировании интерьеров',\n",
              " 'Учимся создавать курсы. Профессия методиста образовательных программ',\n",
              " 'Сервер на C++: подводим итоги',\n",
              " 'Программируем на Java: подводим итоги',\n",
              " 'Создаём высокопроизводительный сервер на C++',\n",
              " 'Работаем с коллекциями и файлами в Java',\n",
              " 'Готовимся к созданию сервера на C++',\n",
              " 'Знакомимся с Java: синтаксис и основы ООП',\n",
              " 'Тренды развития индустрии моды в 2022 году',\n",
              " 'Пишем интерфейс мессенджера на Python',\n",
              " 'UX/UI-дизайнер: подводим итоги интенсива',\n",
              " 'Видеомонтаж: подводим итоги',\n",
              " 'Как покорить Ozon: подводим итоги',\n",
              " 'Настраиваем протокол TCP для мессенджера',\n",
              " 'Создаём экраны мобильного приложения',\n",
              " 'Изучаем программы для монтажа']"
            ]
          },
          "execution_count": 11,
          "metadata": {},
          "output_type": "execute_result"
        }
      ],
      "source": [
        "[webinar.string.strip() for webinar in webinars]"
      ]
    },
    {
      "cell_type": "markdown",
      "metadata": {
        "id": "7YS2GJ3CWKLn"
      },
      "source": [
        "Соединяем название вебинара и его дату"
      ]
    },
    {
      "cell_type": "code",
      "execution_count": 13,
      "metadata": {
        "id": "LUCbDibPT9oJ"
      },
      "outputs": [],
      "source": [
        "webinarsFull=skillsoup.findAll(class_='webinars__item')"
      ]
    },
    {
      "cell_type": "code",
      "execution_count": 14,
      "metadata": {
        "colab": {
          "base_uri": "https://localhost:8080/"
        },
        "id": "mRzjz_UNWcXc",
        "outputId": "dbd73683-0f54-410c-cc04-aa600d5f28eb"
      },
      "outputs": [
        {
          "name": "stdout",
          "output_type": "stream",
          "text": [
            "Вебинар Web Scraping: парсим данные веб-сайтов с помощью Python прошел 02.05.2022\n",
            "Вебинар Знакомимся с маркетплейсами прошел 02.05.2022\n",
            "Вебинар Презентация Видеомастерской: итоги документального потока прошел 02.05.2022\n",
            "Вебинар Знакомимся с профессией декоратора и создаём мудборд прошел 02.05.2022\n",
            "Вебинар Как зайти и раскрутиться в Telegram и «ВКонтакте», чтобы обогнать конкурентов: подводим итоги прошел 30.04.2022\n",
            "Вебинар Продвижение за 0 рублей на актуальных площадках. Работа с Telegram прошел 29.04.2022\n",
            "Вебинар Как обогнать конкурентов «ВКонтакте» прошел 28.04.2022\n",
            "Вебинар Искусственный интеллект на Python: подводим итоги прошел 27.04.2022\n",
            "Вебинар Нарративный дизайн: подводим итоги прошел 27.04.2022\n",
            "Вебинар Изучаем основы бизнес-аналитики за 3 дня. Подводим итоги прошел 27.04.2022\n",
            "Вебинар Пробуем себя в ландшафтном дизайне прошел 27.04.2022\n",
            "Вебинар Конференция Skillbox Holding Limited прошел 27.04.2022\n",
            "Вебинар Инструменты нарративного дизайнера прошел 26.04.2022\n",
            "Вебинар Учим бота на Python понимать текст прошел 26.04.2022\n",
            "Вебинар Изучаем инструменты аналитика прошел 26.04.2022\n",
            "Вебинар Пробуем себя в дизайне интерьеров прошел 26.04.2022\n",
            "Вебинар Знакомимся с нарративным дизайном прошел 25.04.2022\n",
            "Вебинар Знакомимся с Python и архитектурой умного чат-бота прошел 25.04.2022\n",
            "Вебинар Знакомимся с профессией бизнес-аналитика прошел 25.04.2022\n",
            "Вебинар Презентация проектов по курсам: HR-менеджер, HR-аналитик и Менеджер по обучению и развитию персонала прошел 25.04.2022\n",
            "Вебинар Пробуем себя в декорировании интерьеров прошел 25.04.2022\n",
            "Вебинар Учимся создавать курсы. Профессия методиста образовательных программ прошел 24.04.2022\n",
            "Вебинар Сервер на C++: подводим итоги прошел 23.04.2022\n",
            "Вебинар Программируем на Java: подводим итоги прошел 23.04.2022\n",
            "Вебинар Создаём высокопроизводительный сервер на C++ прошел 22.04.2022\n",
            "Вебинар Работаем с коллекциями и файлами в Java прошел 22.04.2022\n",
            "Вебинар Готовимся к созданию сервера на C++ прошел 21.04.2022\n",
            "Вебинар Знакомимся с Java: синтаксис и основы ООП прошел 21.04.2022\n",
            "Вебинар Тренды развития индустрии моды в 2022 году прошел 21.04.2022\n",
            "Вебинар Пишем интерфейс мессенджера на Python прошел 20.04.2022\n",
            "Вебинар UX/UI-дизайнер: подводим итоги интенсива прошел 20.04.2022\n",
            "Вебинар Видеомонтаж: подводим итоги прошел 20.04.2022\n",
            "Вебинар Как покорить Ozon: подводим итоги прошел 20.04.2022\n",
            "Вебинар Настраиваем протокол TCP для мессенджера прошел 19.04.2022\n",
            "Вебинар Создаём экраны мобильного приложения прошел 19.04.2022\n",
            "Вебинар Изучаем программы для монтажа прошел 19.04.2022\n"
          ]
        }
      ],
      "source": [
        "for webinar in webinarsFull:\n",
        "  name=webinar.find(class_='webinar-card__title')\n",
        "  date=webinar.find(class_='webinar-card__date')\n",
        "  print(f'Вебинар {name.string.strip()} прошел {date.string.strip()}')"
      ]
    },
    {
      "cell_type": "markdown",
      "metadata": {},
      "source": [
        "# 2 Урок. Web Parsing динамических страниц"
      ]
    }
  ],
  "metadata": {
    "colab": {
      "collapsed_sections": [],
      "name": "web_parsing.ipynb",
      "provenance": []
    },
    "kernelspec": {
      "display_name": "Python 3",
      "name": "python3"
    },
    "language_info": {
      "name": "python"
    }
  },
  "nbformat": 4,
  "nbformat_minor": 0
}
